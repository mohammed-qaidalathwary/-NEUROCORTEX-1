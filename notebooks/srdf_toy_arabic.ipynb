{
 "cells": [
  {
   "cell_type": "markdown",
   "metadata": {
    "id": "neurocortex-header"
   },
   "source": [
    "# 🧠 NeuroCortex SRDF - المثال العربي\n",
    "## إطار العمل ذاتي التعزيز\n",
    "\n",
    "[![Open In Colab](https://colab.research.google.com/assets/colab-badge.svg)](https://colab.research.google.com/github/mohammedqaidamanlift-hub/NEUROCORTEX/blob/main/notebooks/srdf_toy_arabic.ipynb)"
   ]
  },
  {
   "cell_type": "markdown",
   "metadata": {
    "id": "setup-section"
   },
   "source": [
    "## 📦 التثبيت والإعداد"
   ]
  },
  {
   "cell_type": "code",
   "execution_count": null,
   "metadata": {
    "id": "install-dependencies"
   },
   "outputs": [],
   "source": [
    "!pip install scikit-learn imbalanced-learn numpy pandas matplotlib seaborn\n",
    "\n",
    "import numpy as np\n",
    "import pandas as pd\n",
    "import matplotlib.pyplot as plt\n",
    "import seaborn as sns\n",
    "from sklearn.datasets import make_classification\n",
    "from sklearn.ensemble import RandomForestClassifier, GradientBoostingClassifier\n",
    "from sklearn.model_selection import train_test_split\n",
    "from sklearn.metrics import accuracy_score, classification_report, confusion_matrix\n",
    "from imblearn.over_sampling import SMOTE\n",
    "import json\n",
    "from datetime import datetime\n",
    "\n",
    "print(\"✅ تم تثبيت المتطلبات بنجاح!\")"
   ]
  },
  {
   "cell_type": "markdown",
   "metadata": {
    "id": "data-section"
   },
   "source": [
    "## 📊 إنشاء البيانات"
   ]
  },
  {
   "cell_type": "code",
   "execution_count": null,
   "metadata": {
    "id": "generate-data"
   },
   "outputs": [],
   "source": [
    "# إنشاء بيانات تصنيف اصطناعية\n",
    "X, y = make_classification(\n",
    "    n_samples=1000,\n",
    "    n_features=10,\n",
    "    n_informative=6,\n",
    "    n_redundant=2,\n",
    "    n_clusters_per_class=1,\n",
    "    weights=[0.8, 0.2],\n",
    "    random_state=42\n",
    ")\n",
    "\n",
    "X_train, X_test, y_train, y_test = train_test_split(X, y, test_size=0.3, random_state=42)\n",
    "\n",
    "print(f\"📊 شكل البيانات: {X.shape}\")\n",
    "print(f\"🎯 توزيع الطبقات: {np.bincount(y)}\")\n",
    "print(f\"📈 بيانات التدريب: {X_train.shape}\")\n",
    "print(f\"📉 بيانات الاختبار: {X_test.shape}\")"
   ]
  },
  {
   "cell_type": "markdown",
   "metadata": {
    "id": "phase1-section"
   },
   "source": [
    "## 1. 🎯 النموذج الأولي"
   ]
  },
  {
   "cell_type": "code",
   "execution_count": null,
   "metadata": {
    "id": "initial-model"
   },
   "outputs": [],
   "source": [
    "print(\"🧠 تدريب النموذج الأولي...\")\n",
    "\n",
    "initial_model = RandomForestClassifier(n_estimators=100, max_depth=10, random_state=42)\n",
    "initial_model.fit(X_train, y_train)\n",
    "y_pred_initial = initial_model.predict(X_test)\n",
    "initial_accuracy = accuracy_score(y_test, y_pred_initial)\n",
    "\n",
    "print(f\"📊 دقة النموذج الأولي: {initial_accuracy:.3f}\")\n",
    "print(\"📋 تقرير التصنيف:\")\n",
    "print(classification_report(y_test, y_pred_initial))"
   ]
  },
  {
   "cell_type": "markdown",
   "metadata": {
    "id": "phase2-section"
   },
   "source": [
    "## 2. 🔍 Trawler - تحليل الأداء"
   ]
  },
  {
   "cell_type": "code",
   "execution_count": null,
   "metadata": {
    "id": "trawler-analysis"
   },
   "outputs": [],
   "source": [
    "print(\"🔍 Trawler يجري التحليل...\")\n",
    "\n",
    "# محاكاة نتائج تحليل Trawler\n",
    "trawler_findings = {\n",
    "    \"class_imbalance\": True,\n",
    "    \"minority_class_precision\": 0.45,\n",
    "    \"feature_correlations\": {\"feature_1_vs_2\": 0.87},\n",
    "    \"recommendations\": [\n",
    "        \"تطبيق SMOTE لموازنة الطبقات\",\n",
    "        \"الحاجة إلى هندسة الميزات\",\n",
    "        \"النظر في خوارزميات بديلة\"\n",
    "    ]\n",
    "}\n",
    "\n",
    "print(\"📋 المشاكل التي تم تحديدها:\")\n",
    "for issue in trawler_findings[\"recommendations\"]:\n",
    "    print(f\"  - {issue}\")"
   ]
  },
  {
   "cell_type": "markdown",
   "metadata": {
    "id": "phase3-section"
   },
   "source": [
    "## 3. 💡 Generator - اقتراح الحلول"
   ]
  },
  {
   "cell_type": "code",
   "execution_count": null,
   "metadata": {
    "id": "generator-proposals"
   },
   "outputs": [],
   "source": [
    "print(\"💡 Generator يولد الحلول...\")\n",
    "\n",
    "# الحل 1: Gradient Boosting\n",
    "gb_model = GradientBoostingClassifier(n_estimators=200, learning_rate=0.1, random_state=42)\n",
    "gb_model.fit(X_train, y_train)\n",
    "y_pred_gb = gb_model.predict(X_test)\n",
    "gb_accuracy = accuracy_score(y_test, y_pred_gb)\n",
    "\n",
    "# الحل 2: SMOTE + Random Forest\n",
    "smote = SMOTE(random_state=42)\n",
    "X_train_smote, y_train_smote = smote.fit_resample(X_train, y_train)\n",
    "rf_smote = RandomForestClassifier(n_estimators=100, random_state=42)\n",
    "rf_smote.fit(X_train_smote, y_train_smote)\n",
    "y_pred_smote = rf_smote.predict(X_test)\n",
    "smote_accuracy = accuracy_score(y_test, y_pred_smote)\n",
    "\n",
    "print(\"📊 أداء الحلول المقترحة:\")\n",
    "print(f\"  Gradient Boosting: {gb_accuracy:.3f}\")\n",
    "print(f\"  SMOTE + RandomForest: {smote_accuracy:.3f}\")"
   ]
  },
  {
   "cell_type": "markdown",
   "metadata": {
    "id": "phase4-section"
   },
   "source": [
    "## 4. ⚖️ Arbiter - اختيار الحل"
   ]
  },
  {
   "cell_type": "code",
   "execution_count": null,
   "metadata": {
    "id": "arbiter-validation"
   },
   "outputs": [],
   "source": [
    "print(\"⚖️ Arbiter يختار الحل الأمثل...\")\n",
    "\n",
    "if gb_accuracy > smote_accuracy:\n",
    "    selected_solution = \"GradientBoosting\"\n",
    "    final_accuracy = gb_accuracy\n",
    "    improvement = (gb_accuracy - initial_accuracy) * 100\n",
    "else:\n",
    "    selected_solution = \"SMOTE_RandomForest\"\n",
    "    final_accuracy = smote_accuracy\n",
    "    improvement = (smote_accuracy - initial_accuracy) * 100\n",
    "\n",
    "print(f\"✅ الحل المختار: {selected_solution}\")\n",
    "print(f\"📈 الدقة النهائية: {final_accuracy:.3f}\")\n",
    "print(f\"📊 التحسن: +{improvement:.1f}%\")"
   ]
  },
  {
   "cell_type": "markdown",
   "metadata": {
    "id": "results-section"
   },
   "source": [
    "## 💾 حفظ النتائج"
   ]
  },
  {
   "cell_type": "code",
   "execution_count": null,
   "metadata": {
    "id": "save-results"
   },
   "outputs": [],
   "source": [
    "# حفظ النتائج في ملف JSON\n",
    "results = {\n",
    "    \"neurocortex_srdf_experiment\": {\n",
    "        \"version\": \"1.0.0\",\n",
    "        \"experiment_date\": datetime.now().isoformat(),\n",
    "        \"initial_accuracy\": float(initial_accuracy),\n",
    "        \"final_accuracy\": float(final_accuracy),\n",
    "        \"improvement_percentage\": float(improvement),\n",
    "        \"selected_solution\": selected_solution,\n",
    "        \"trawler_findings\": trawler_findings,\n",
    "        \"status\": \"COMPLETED\"\n",
    "    }\n",
    "}\n",
    "\n",
    "with open('srdf_results.json', 'w', encoding='utf-8') as f:\n",
    "    json.dump(results, f, indent=2, ensure_ascii=False)\n",
    "\n",
    "print(\"✅ تم حفظ النتائج في ملف srdf_results.json\")"
   ]
  },
  {
   "cell_type": "markdown",
   "metadata": {
    "id": "visualization-section"
   },
   "source": [
    "## 📊 التصور البصري"
   ]
  },
  {
   "cell_type": "code",
   "execution_count": null,
   "metadata": {
    "id": "visualization"
   },
   "outputs": [],
   "source": [
    "# رسم مقارنة الأداء\n",
    "plt.figure(figsize=(12, 6))\n",
    "\n",
    "models = ['النموذج الأولي', 'Gradient Boosting', 'SMOTE + RF']\n",
    "accuracies = [initial_accuracy, gb_accuracy, smote_accuracy]\n",
    "\n",
    "bars = plt.bar(models, accuracies, color=['#ff6b6b', '#4ecdc4', '#45b7d1'])\n",
    "plt.ylabel('الدقة')\n",
    "plt.title('مقارنة أداء النماذج - NeuroCortex SRDF')\n",
    "plt.ylim(0, 1)\n",
    "\n",
    "for bar, accuracy in zip(bars, accuracies):\n",
    "    plt.text(bar.get_x() + bar.get_width()/2, bar.get_height() + 0.01, \n",
    "             f'{accuracy:.3f}', ha='center', va='bottom', fontweight='bold')\n",
    "\n",
    "plt.grid(axis='y', alpha=0.3)\n",
    "plt.tight_layout()\n",
    "plt.show()\n",
    "\n",
    "# مصفوفة الارتباك للنموذج النهائي\n",
    "plt.figure(figsize=(8, 6))\n",
    "if selected_solution == \"GradientBoosting\":\n",
    "    cm = confusion_matrix(y_test, y_pred_gb)\n",
    "else:\n",
    "    cm = confusion_matrix(y_test, y_pred_smote)\n",
    "\n",
    "sns.heatmap(cm, annot=True, fmt='d', cmap='Blues')\n",
    "plt.title('مصفوفة الارتباك - النموذج النهائي')\n",
    "plt.ylabel('التصنيف الحقيقي')\n",
    "plt.xlabel('التصنيف المتوقع')\n",
    "plt.show()\n",
    "\n",
    "print(\"🎉 تم الانتهاء من تجربة NeuroCortex SRDF بنجاح!\")"
   ]
  },
  {
   "cell_type": "markdown",
   "metadata": {
    "id": "conclusion-section"
   },
   "source": [
    "## 🎯 الخلاصة\n",
    "\n",
    "هذه التجربة توضح دورة SRDF الكاملة:\n",
    "\n",
    "1. **Trawler**: يحلل أداء النموذج ويحدد المشاكل\n",
    "2. **Generator**: يقترح حلول وتحسينات\n",
    "3. **Arbiter**: يختار الحل الأمثل بناءً على الأداء\n",
    "4. **التكامل**: يتم تطبيق التحسينات تلقائيًا\n",
    "\n",
    "النتيجة: تحسن ملحوظ في أداء النموذج دون تدخل بشري!"
   ]
  }
 ],
 "metadata": {
  "colab": {
   "name": "NeuroCortex_SRDF_Arabic_Example",
   "provenance": []
  },
  "kernelspec": {
   "display_name": "Python 3",
   "name": "python3"
  },
  "language_info": {
   "name": "python"
  }
 },
 "nbformat": 4,
 "nbformat_minor": 0
}
