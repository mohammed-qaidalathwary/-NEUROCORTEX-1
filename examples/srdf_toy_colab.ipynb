{
 "cells": [
  {
   "cell_type": "markdown",
   "metadata": {},
   "source": [
    "# 🧠 SRDF Toy Example\n",
    "This notebook runs a toy example for the NeuroCortex SRDF Framework."
   ]
  },
  {
   "cell_type": "code",
   "execution_count": null,
   "metadata": {},
   "outputs": [],
   "source": [
    "%%bash\n",
    "# ======================================================\n",
    "# NeuroCortex SRDF Toy Example Setup & Run Script\n",
    "# ======================================================\n",
    "\n",
    "# Define directories\n",
    "PROJECT_DIR=\"$HOME/NEUROCORTEX\"\n",
    "EXAMPLE_DIR=\"$PROJECT_DIR/examples/srdf_toy\"\n",
    "\n",
    "if [ ! -d \"$EXAMPLE_DIR\" ]; then\n",
    "    echo \"📂 Example folder not found at $EXAMPLE_DIR\"\n",
    "    exit 1\n",
    "fi\n",
    "\n",
    "cd \"$EXAMPLE_DIR\" || exit\n",
    "\n",
    "echo \"📦 Installing requirements...\"\n",
    "pip install -r requirements.txt || { echo \"❌ Failed to install requirements\"; exit 1; }\n",
    "\n",
    "echo \"🚀 Running SRDF Toy Example...\"\n",
    "python run.py > output.json || { echo \"❌ Failed to run toy example\"; exit 1; }\n",
    "\n",
    "if [ -f \"output.json\" ]; then\n",
    "    echo \"✅ Toy Example completed. Output saved in output.json\"\n",
    "else\n",
    "    echo \"❌ output.json not found!\"\n",
    "    exit 1\n",
    "fi\n",
    "\n",
    "echo \"🌐 Useful Links:\"\n",
    "echo \"English Whitepaper: https://github.com/mohammed-qaidalathwary/-NEUROCORTEX/blob/main/Self_Evolving_AI_Whitepaper_EN_Final.pdf\"\n",
    "echo \"Arabic Whitepaper: https://github.com/mohammed-qaidalathwary/-NEUROCORTEX/blob/main/%20Self_Evolving_AI_Whitepaper_AR_Final.pdf\"\n",
    "echo \"Output JSON: https://github.com/mohammed-qaidalathwary/-NEUROCORTEX/blob/main/examples/srdf_toy/output.json\"\n",
    "echo \"Email Contact: Mohammedqaidalathwary@gmail.com\"\n",
    "echo \"DOI: https://doi.org/10.5281/zenodo.16945431\""
   ]
  },
  {
   "cell_type": "code",
   "execution_count": null,
   "metadata": {},
   "outputs": [],
   "source": [
    "# 📌 Load and display the results\n",
    "import json\n",
    "with open(\"../examples/srdf_toy/output.json\", \"r\") as f:\n",
    "    data = json.load(f)\n",
    "print(\"✅ SRDF Toy Example Output:\")\n",
    "print(json.dumps(data, indent=4))"
   ]
  }
 ],
 "metadata": {
  "kernelspec": {
   "display_name": "Python 3",
   "language": "python",
   "name": "python3"
  },
  "language_info": {
   "name": "python",
   "version": "3.11"
  }
 },
 "nbformat": 4,
 "nbformat_minor": 5
}