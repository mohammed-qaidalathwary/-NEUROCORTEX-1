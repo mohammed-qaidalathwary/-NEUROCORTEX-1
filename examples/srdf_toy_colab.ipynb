{
 "cells": [
  {
   "cell_type": "markdown",
   "metadata": {
    "id": "view-in-github"
   },
   "source": [
    "# 🧠 NeuroCortex SRDF Toy Example on Colab\n",
    "هذا الـ Notebook يقوم بتشغيل مثال **Toy Example** لـ NeuroCortex SRDF Framework على Google Colab."
   ]
  },
  {
   "cell_type": "code",
   "execution_count": null,
   "metadata": {
    "colab": {
     "base_uri": "https://localhost:8080/"
    },
    "id": "install_deps",
    "outputId": "abcdefgh-1234-5678-ijkl-mnopqrstuvwx"
   },
   "outputs": [],
   "source": [
    "# 1️⃣ استنساخ المستودع\n",
    "!rm -rf NEUROCORTEX  # احذف إذا موجود مسبقًا\n",
    "!git clone https://github.com/mohammed-qaidalathwary/NEUROCORTEX.git\n",
    "\n",
    "# 2️⃣ الانتقال إلى المسار الصحيح (باستخدام المسار الكامل)\n",
    "import os\n",
    "os.chdir('/content/NEUROCORTEX/examples/srdf_toy')\n",
    "\n",
    "# 3️⃣ عرض المحتويات للتأكد\n",
    "!ls -la\n",
    "\n",
    "# 4️⃣ تثبيت المتطلبات\n",
    "!pip install -r requirements.txt"
   ]
  },
  {
   "cell_type": "code",
   "execution_count": null,
   "metadata": {
    "colab": {
     "base_uri": "https://localhost:8080/"
    },
    "id": "run_example",
    "outputId": "abcdefgh-1234-5678-ijkl-mnopqrstuvwy"
   },
   "outputs": [],
   "source": [
    "# 5️⃣ تشغيل المثال\n",
    "!python run.py\n",
    "\n",
    "# 6️⃣ نسخ النتائج إلى ملف (إذا كان run.py لا يحفظ تلقائيًا)\n",
    "!python run.py > output.json"
   ]
  },
  {
   "cell_type": "code",
   "execution_count": null,
   "metadata": {
    "colab": {
     "base_uri": "https://localhost:8080/"
    },
    "id": "show_results",
    "outputId": "abcdefgh-1234-5678-ijkl-mnopqrstuvwz"
   },
   "outputs": [],
   "source": [
    "# 7️⃣ قراءة وعرض النتائج\n",
    "import json\n",
    "\n",
    "try:\n",
    "    with open(\"output.json\", \"r\") as f:\n",
    "        data = json.load(f)\n",
    "    print(\"✅ SRDF Toy Example Output:\")\n",
    "    print(json.dumps(data, indent=4, ensure_ascii=False))\n",
    "except FileNotFoundError:\n",
    "    print(\"❌ ملف output.json غير موجود. قد يكون هناك خطأ في التشغيل.\")\n",
    "    print(\\"محتويات المجلد الحالي:\\\")\n",
    "    !ls -la"
   ]
  },
  {
   "cell_type": "markdown",
   "metadata": {
    "id": "important_links"
   },
   "source": [
    "## 🌐 روابط مهمة\n",
    "- الورقة البيضاء الإنجليزية: [EN PDF](https://github.com/mohammed-qaidalathwary/NEUROCORTEX/blob/main/Self_Evolving_AI_Whitepaper_EN_Final.pdf)\n",
    "- الورقة البيضاء العربية: [AR PDF](https://github.com/mohammed-qaidalathwary/NEUROCORTEX/blob/main/Self_Evolving_AI_Whitepaper_AR_Final.pdf)\n",
    "- ملف JSON: [output.json](https://github.com/mohammed-qaidalathwary/NEUROCORTEX/blob/main/examples/srdf_toy/output.json)\n",
    "- البريد الإلكتروني: Mohammedqaidalathwary@gmail.com\n",
    "- DOI: [10.5281/zenodo.16945431](https://doi.org/10.5281/zenodo.16945431)"
   ]
  }
 ],
 "metadata": {
  "colab": {
   "provenance": [],
   "include_colab_link": true
  },
  "kernelspec": {
   "display_name": "Python 3",
   "name": "python3"
  },
  "language_info": {
   "name": "python"
  }
 },
 "nbformat": 4,
 "nbformat_minor": 0
}
